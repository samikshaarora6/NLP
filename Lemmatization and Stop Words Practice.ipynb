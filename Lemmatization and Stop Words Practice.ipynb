{
 "cells": [
  {
   "cell_type": "code",
   "execution_count": 1,
   "metadata": {},
   "outputs": [],
   "source": [
    "import spacy"
   ]
  },
  {
   "cell_type": "code",
   "execution_count": 2,
   "metadata": {},
   "outputs": [],
   "source": [
    "nlp=spacy.load('en_core_web_sm')"
   ]
  },
  {
   "cell_type": "code",
   "execution_count": 4,
   "metadata": {},
   "outputs": [
    {
     "name": "stdout",
     "output_type": "stream",
     "text": [
      "I \t PRON \t 561228191312463089 \t -PRON-\n",
      "am \t AUX \t 10382539506755952630 \t be\n",
      "a \t DET \t 11901859001352538922 \t a\n",
      "runner \t NOUN \t 12640964157389618806 \t runner\n",
      "running \t VERB \t 12767647472892411841 \t run\n",
      "in \t ADP \t 3002984154512732771 \t in\n",
      "a \t DET \t 11901859001352538922 \t a\n",
      "race \t NOUN \t 8048469955494714898 \t race\n",
      "because \t SCONJ \t 16950148841647037698 \t because\n",
      "I \t PRON \t 561228191312463089 \t -PRON-\n",
      "love \t VERB \t 3702023516439754181 \t love\n",
      "to \t PART \t 3791531372978436496 \t to\n",
      "run \t VERB \t 12767647472892411841 \t run\n",
      "since \t SCONJ \t 10066841407251338481 \t since\n",
      "I \t PRON \t 561228191312463089 \t -PRON-\n",
      "ran \t VERB \t 12767647472892411841 \t run\n",
      "today \t NOUN \t 11042482332948150395 \t today\n"
     ]
    }
   ],
   "source": [
    "doc1 = nlp(u\"I am a runner running in a race because I love to run since I ran today\")\n",
    "\n",
    "for token in doc1:\n",
    "    print(token.text, '\\t', token.pos_, '\\t', token.lemma, '\\t', token.lemma_)"
   ]
  },
  {
   "cell_type": "code",
   "execution_count": 10,
   "metadata": {},
   "outputs": [],
   "source": [
    "def show_lemmas(text):\n",
    "    print(f'{\"Text\":{12}} {\"POS\":{6}} {\"Lemma\":<{22}} {\"Token Lemma\"}')\n",
    "    print(\"------------------------------------------------------------\")\n",
    "    for token in text:\n",
    "        print(f'{token.text:{12}} {token.pos_:{6}} {token.lemma:<{22}} {token.lemma_}')"
   ]
  },
  {
   "cell_type": "code",
   "execution_count": 11,
   "metadata": {},
   "outputs": [
    {
     "name": "stdout",
     "output_type": "stream",
     "text": [
      "Text         POS    Lemma                  Token Lemma\n",
      "------------------------------------------------------------\n",
      "I            PRON   561228191312463089     -PRON-\n",
      "am           AUX    10382539506755952630   be\n",
      "a            DET    11901859001352538922   a\n",
      "runner       NOUN   12640964157389618806   runner\n",
      "running      VERB   12767647472892411841   run\n",
      "in           ADP    3002984154512732771    in\n",
      "a            DET    11901859001352538922   a\n",
      "race         NOUN   8048469955494714898    race\n",
      "because      SCONJ  16950148841647037698   because\n",
      "I            PRON   561228191312463089     -PRON-\n",
      "love         VERB   3702023516439754181    love\n",
      "to           PART   3791531372978436496    to\n",
      "run          VERB   12767647472892411841   run\n",
      "since        SCONJ  10066841407251338481   since\n",
      "I            PRON   561228191312463089     -PRON-\n",
      "ran          VERB   12767647472892411841   run\n",
      "today        NOUN   11042482332948150395   today\n"
     ]
    }
   ],
   "source": [
    "show_lemmas(doc1)"
   ]
  },
  {
   "cell_type": "code",
   "execution_count": 13,
   "metadata": {},
   "outputs": [],
   "source": [
    "doc2 = nlp(u\"Rainy Day Paragraph: On a rainy day it rains all day long. A rainy day is dull and gloomy. The sky is overcast with thick clouds. The sky is not seen. None can go out without an umbrella. Water stands on roads and roads become muddy and slippery.\")"
   ]
  },
  {
   "cell_type": "code",
   "execution_count": 14,
   "metadata": {},
   "outputs": [
    {
     "name": "stdout",
     "output_type": "stream",
     "text": [
      "Text         POS    Lemma                  Token Lemma\n",
      "------------------------------------------------------------\n",
      "Rainy        PROPN  9690129719433770997    Rainy\n",
      "Day          PROPN  13415491272735578485   Day\n",
      "Paragraph    PROPN  15904431437038344181   Paragraph\n",
      ":            PUNCT  11532473245541075862   :\n",
      "On           ADP    5640369432778651323    on\n",
      "a            DET    11901859001352538922   a\n",
      "rainy        ADJ    14550978454584554074   rainy\n",
      "day          NOUN   1608482186128794349    day\n",
      "it           PRON   561228191312463089     -PRON-\n",
      "rains        VERB   6253719383086150949    rain\n",
      "all          DET    13409319323822384369   all\n",
      "day          NOUN   1608482186128794349    day\n",
      "long         ADV    12965068231793614765   long\n",
      ".            PUNCT  12646065887601541794   .\n",
      "A            DET    11901859001352538922   a\n",
      "rainy        ADJ    14550978454584554074   rainy\n",
      "day          NOUN   1608482186128794349    day\n",
      "is           AUX    10382539506755952630   be\n",
      "dull         ADJ    17528401488295398484   dull\n",
      "and          CCONJ  2283656566040971221    and\n",
      "gloomy       ADJ    13927124551353510441   gloomy\n",
      ".            PUNCT  12646065887601541794   .\n",
      "The          DET    7425985699627899538    the\n",
      "sky          NOUN   4480337019333565584    sky\n",
      "is           AUX    10382539506755952630   be\n",
      "overcast     ADJ    7084284405202661033    overcast\n",
      "with         ADP    12510949447758279278   with\n",
      "thick        ADJ    13035274108665038098   thick\n",
      "clouds       NOUN   13981346438767540862   cloud\n",
      ".            PUNCT  12646065887601541794   .\n",
      "The          DET    7425985699627899538    the\n",
      "sky          NOUN   4480337019333565584    sky\n",
      "is           AUX    10382539506755952630   be\n",
      "not          PART   447765159362469301     not\n",
      "seen         VERB   11925638236994514241   see\n",
      ".            PUNCT  12646065887601541794   .\n",
      "None         NOUN   6163369680274798794    none\n",
      "can          VERB   6635067063807956629    can\n",
      "go           VERB   8004577259940138793    go\n",
      "out          ADP    1696981056005371314    out\n",
      "without      ADP    4711265942760212190    without\n",
      "an           DET    15099054000809333061   an\n",
      "umbrella     NOUN   246749879150575869     umbrella\n",
      ".            PUNCT  12646065887601541794   .\n",
      "Water        NOUN   7248544922998488549    water\n",
      "stands       VERB   16121235759125543490   stand\n",
      "on           ADP    5640369432778651323    on\n",
      "roads        NOUN   13540101588783668053   road\n",
      "and          CCONJ  2283656566040971221    and\n",
      "roads        NOUN   13540101588783668053   road\n",
      "become       VERB   12558846041070486771   become\n",
      "muddy        ADJ    4698440547635695041    muddy\n",
      "and          CCONJ  2283656566040971221    and\n",
      "slippery     ADJ    7551493138440910773    slippery\n",
      ".            PUNCT  12646065887601541794   .\n"
     ]
    }
   ],
   "source": [
    "show_lemmas(doc2)"
   ]
  },
  {
   "cell_type": "code",
   "execution_count": 9,
   "metadata": {},
   "outputs": [
    {
     "name": "stdout",
     "output_type": "stream",
     "text": [
      "{'amount', 'up', 'below', 'whom', '’ve', 'well', 'thru', 'is', 'then', 'sometimes', 'whence', 'sometime', 'because', 'fifteen', ('kkrh', 'kkkg', 'kkhh'), \"'ve\", 'back', 'through', 'beside', 'again', 'on', 'should', 'as', 'really', 'seems', 'moreover', 'please', 'whatever', 'now', 'against', 'us', 'still', 'who', 'often', 'ever', 'per', 'down', 'five', 'n’t', 'least', 'bottom', 'yet', 'give', 'anything', 'whether', 'before', 'part', 'whoever', 'our', 'two', 'make', 'during', 'around', 'in', 'some', 'where', 'namely', 'over', 'whenever', 'anywhere', 'somehow', 'other', '‘ll', 'be', 'serious', 'besides', 'four', 'did', 'eleven', 'hence', 'seemed', 'under', 'why', '‘re', 'not', 'less', 'indeed', 'everything', 'therefore', 'what', 'take', 'there', 'everywhere', 'otherwise', 'together', 'side', 'therein', 'no', 'by', 'top', 'nothing', 'thence', 'due', 'becomes', 'twelve', 'move', 'however', 'formerly', 'latter', 'almost', 'quite', 'twenty', 'that', 'for', 'you', 'empty', 'regarding', 'if', 'several', '‘m', 'herself', 'ten', 'further', 'than', \"'d\", 'must', 'her', 'so', 'just', \"n't\", 'here', 'wherever', 'full', 'throughout', 'had', 'much', 'might', 'these', '’s', 'last', 'himself', 'yourselves', '‘s', 'am', 'the', 'also', 'made', 'ca', 'since', 'same', 'get', 'anyway', 'thereupon', 'rather', 'my', 'does', '’m', 'show', 'but', 'hereby', 'seem', 'such', 'many', 'after', 'something', 'nine', 'has', 'have', 'neither', 'may', 'themselves', 'perhaps', 'i', 'was', 'n‘t', 'among', 'nowhere', 'became', 'towards', 'hers', 'it', 'another', '’d', 'mostly', 'else', 'once', 'out', 'enough', 'across', 'above', 'seeming', 'using', 'me', 'mine', 'how', 'their', 'see', 'anyhow', 'those', 'always', 'used', 'call', 'until', 'unless', 're', 'or', 'whose', 'without', 'myself', 'whole', 'nor', 'wherein', 'afterwards', 'off', 'various', 'itself', 'only', 'front', 'more', 'onto', 'fifty', 'go', 'while', 'whereas', 'former', 'becoming', \"'re\", 'except', '‘d', 'very', \"'ll\", 'within', 'your', 'all', 'whereafter', 'own', 'would', 'its', 'elsewhere', 'most', 'latterly', 'although', 'any', 'cannot', 'can', 'yours', 'beforehand', 'along', 'done', 'whereupon', 'being', 'name', \"'m\", 'too', 'a', 'and', 'this', 'six', 'an', 'one', 'whither', 'herein', 'thereby', 'say', 'put', 'beyond', 'become', 'ours', \"'s\", 'nobody', 'his', 'hundred', '’re', 'alone', 'none', 'of', 'yourself', 'though', 'doing', 'first', 'whereby', 'forty', 'keep', 'at', 'hereupon', 'anyone', 'do', 'thereafter', 'from', 'even', 'third', 'about', 'between', 'ourselves', 'somewhere', 'when', 'toward', 'we', 'everyone', 'every', 'amongst', 'could', 'noone', 'nevertheless', 'which', 'either', '’ll', 'thus', 'already', 'meanwhile', 'upon', 'three', 'each', 'eight', 'next', 'others', 'few', 'they', 'to', 'someone', 'are', 'them', 'hereafter', 'he', 'will', 'into', 'sixty', 'with', 'she', 'behind', 'both', 'were', 'been', 'him', '‘ve', 'never', 'via'}\n"
     ]
    }
   ],
   "source": [
    "print(nlp.Defaults.stop_words)"
   ]
  },
  {
   "cell_type": "code",
   "execution_count": 10,
   "metadata": {},
   "outputs": [
    {
     "data": {
      "text/plain": [
       "327"
      ]
     },
     "execution_count": 10,
     "metadata": {},
     "output_type": "execute_result"
    }
   ],
   "source": [
    "len(nlp.Defaults.stop_words)"
   ]
  },
  {
   "cell_type": "code",
   "execution_count": 11,
   "metadata": {},
   "outputs": [
    {
     "data": {
      "text/plain": [
       "True"
      ]
     },
     "execution_count": 11,
     "metadata": {},
     "output_type": "execute_result"
    }
   ],
   "source": [
    "nlp.vocab['is'].is_stop"
   ]
  },
  {
   "cell_type": "code",
   "execution_count": 12,
   "metadata": {},
   "outputs": [
    {
     "data": {
      "text/plain": [
       "False"
      ]
     },
     "execution_count": 12,
     "metadata": {},
     "output_type": "execute_result"
    }
   ],
   "source": [
    "nlp.vocab['False'].is_stop"
   ]
  },
  {
   "cell_type": "code",
   "execution_count": 13,
   "metadata": {},
   "outputs": [
    {
     "data": {
      "text/plain": [
       "False"
      ]
     },
     "execution_count": 13,
     "metadata": {},
     "output_type": "execute_result"
    }
   ],
   "source": [
    "nlp.vocab['btw'].is_stop"
   ]
  },
  {
   "cell_type": "code",
   "execution_count": 14,
   "metadata": {},
   "outputs": [],
   "source": [
    "nlp.Defaults.stop_words.add('btw')"
   ]
  },
  {
   "cell_type": "code",
   "execution_count": 15,
   "metadata": {},
   "outputs": [],
   "source": [
    "nlp.vocab['btw'].is_stop=True"
   ]
  },
  {
   "cell_type": "code",
   "execution_count": 16,
   "metadata": {},
   "outputs": [
    {
     "data": {
      "text/plain": [
       "True"
      ]
     },
     "execution_count": 16,
     "metadata": {},
     "output_type": "execute_result"
    }
   ],
   "source": [
    "nlp.vocab['btw'].is_stop"
   ]
  },
  {
   "cell_type": "code",
   "execution_count": 6,
   "metadata": {},
   "outputs": [],
   "source": [
    "list1=['kkrh','kkkg','kkhh']"
   ]
  },
  {
   "cell_type": "code",
   "execution_count": 7,
   "metadata": {},
   "outputs": [
    {
     "ename": "TypeError",
     "evalue": "unhashable type: 'list'",
     "output_type": "error",
     "traceback": [
      "\u001b[1;31m---------------------------------------------------------------------------\u001b[0m",
      "\u001b[1;31mTypeError\u001b[0m                                 Traceback (most recent call last)",
      "\u001b[1;32m<ipython-input-7-783d460d7a04>\u001b[0m in \u001b[0;36m<module>\u001b[1;34m\u001b[0m\n\u001b[1;32m----> 1\u001b[1;33m \u001b[0mnlp\u001b[0m\u001b[1;33m.\u001b[0m\u001b[0mDefaults\u001b[0m\u001b[1;33m.\u001b[0m\u001b[0mstop_words\u001b[0m\u001b[1;33m.\u001b[0m\u001b[0madd\u001b[0m\u001b[1;33m(\u001b[0m\u001b[0mlist1\u001b[0m\u001b[1;33m)\u001b[0m\u001b[1;33m\u001b[0m\u001b[1;33m\u001b[0m\u001b[0m\n\u001b[0m",
      "\u001b[1;31mTypeError\u001b[0m: unhashable type: 'list'"
     ]
    }
   ],
   "source": [
    "nlp.Defaults.stop_words.add(list1)"
   ]
  },
  {
   "cell_type": "code",
   "execution_count": 8,
   "metadata": {},
   "outputs": [
    {
     "ename": "TypeError",
     "evalue": "an integer is required",
     "output_type": "error",
     "traceback": [
      "\u001b[1;31m---------------------------------------------------------------------------\u001b[0m",
      "\u001b[1;31mTypeError\u001b[0m                                 Traceback (most recent call last)",
      "\u001b[1;32m<ipython-input-8-ef46ff1c413d>\u001b[0m in \u001b[0;36m<module>\u001b[1;34m\u001b[0m\n\u001b[1;32m----> 1\u001b[1;33m \u001b[0mnlp\u001b[0m\u001b[1;33m.\u001b[0m\u001b[0mvocab\u001b[0m\u001b[1;33m[\u001b[0m\u001b[0mlist1\u001b[0m\u001b[1;33m]\u001b[0m\u001b[1;33m.\u001b[0m\u001b[0mis_stop\u001b[0m\u001b[1;33m=\u001b[0m\u001b[1;32mTrue\u001b[0m\u001b[1;33m\u001b[0m\u001b[1;33m\u001b[0m\u001b[0m\n\u001b[0m",
      "\u001b[1;32mvocab.pyx\u001b[0m in \u001b[0;36mspacy.vocab.Vocab.__getitem__\u001b[1;34m()\u001b[0m\n",
      "\u001b[1;31mTypeError\u001b[0m: an integer is required"
     ]
    }
   ],
   "source": [
    "nlp.vocab[list1].is_stop=True"
   ]
  },
  {
   "cell_type": "code",
   "execution_count": 20,
   "metadata": {},
   "outputs": [
    {
     "data": {
      "text/plain": [
       "False"
      ]
     },
     "execution_count": 20,
     "metadata": {},
     "output_type": "execute_result"
    }
   ],
   "source": [
    "nlp.vocab['kkrh'].is_stop"
   ]
  },
  {
   "cell_type": "code",
   "execution_count": 21,
   "metadata": {},
   "outputs": [],
   "source": [
    "test = nlp(u\"I am a runner running in a race because I love to run since I ran today\")"
   ]
  },
  {
   "cell_type": "code",
   "execution_count": 22,
   "metadata": {},
   "outputs": [
    {
     "name": "stdout",
     "output_type": "stream",
     "text": [
      "I\n",
      "am\n",
      "a\n",
      "in\n",
      "a\n",
      "because\n",
      "I\n",
      "to\n",
      "since\n",
      "I\n"
     ]
    }
   ],
   "source": [
    "for word in test:\n",
    "    if word.is_stop==True:\n",
    "        print(word)"
   ]
  },
  {
   "cell_type": "code",
   "execution_count": 23,
   "metadata": {},
   "outputs": [
    {
     "name": "stdout",
     "output_type": "stream",
     "text": [
      "runner\n",
      "running\n",
      "race\n",
      "love\n",
      "run\n",
      "ran\n",
      "today\n"
     ]
    }
   ],
   "source": [
    "for word in test:\n",
    "    if word.is_stop==False:\n",
    "        print(word)"
   ]
  },
  {
   "cell_type": "code",
   "execution_count": 25,
   "metadata": {},
   "outputs": [],
   "source": [
    "###MATCHER"
   ]
  },
  {
   "cell_type": "code",
   "execution_count": 26,
   "metadata": {},
   "outputs": [],
   "source": [
    "from spacy.matcher import Matcher"
   ]
  },
  {
   "cell_type": "code",
   "execution_count": 27,
   "metadata": {},
   "outputs": [],
   "source": [
    "matcher=Matcher(nlp.vocab)"
   ]
  },
  {
   "cell_type": "code",
   "execution_count": 29,
   "metadata": {},
   "outputs": [],
   "source": [
    "pattern1=[{'LOWER':'solarpower'}]\n",
    "pattern2=[{'LOWER':'solar'},{'IS_PUNCT':True},\n",
    "         {'LOWER':'power'}]\n"
   ]
  },
  {
   "cell_type": "code",
   "execution_count": 30,
   "metadata": {},
   "outputs": [],
   "source": [
    "matcher.add('SolarPower',None,pattern1,pattern2)"
   ]
  },
  {
   "cell_type": "code",
   "execution_count": 35,
   "metadata": {},
   "outputs": [],
   "source": [
    "doc=nlp(u'The SolarPower cjjhaacsh. Solar-power ')\n"
   ]
  },
  {
   "cell_type": "code",
   "execution_count": 36,
   "metadata": {},
   "outputs": [],
   "source": [
    "found_matches=matcher(doc)"
   ]
  },
  {
   "cell_type": "code",
   "execution_count": 37,
   "metadata": {},
   "outputs": [
    {
     "name": "stdout",
     "output_type": "stream",
     "text": [
      "[(8656102463236116519, 1, 2), (8656102463236116519, 4, 7)]\n"
     ]
    }
   ],
   "source": [
    "print(found_matches)"
   ]
  },
  {
   "cell_type": "code",
   "execution_count": 38,
   "metadata": {},
   "outputs": [
    {
     "name": "stdout",
     "output_type": "stream",
     "text": [
      "8656102463236116519 SolarPower 1 2 SolarPower\n",
      "8656102463236116519 SolarPower 4 7 Solar-power\n"
     ]
    }
   ],
   "source": [
    "for match_id, start, end in found_matches:\n",
    "    string_id = nlp.vocab.strings[match_id]  # get string representation\n",
    "    span = doc[start:end]                    # get the matched span\n",
    "    print(match_id, string_id, start, end, span.text)"
   ]
  },
  {
   "cell_type": "code",
   "execution_count": 40,
   "metadata": {},
   "outputs": [],
   "source": [
    "matcher.remove('SolarPower')"
   ]
  },
  {
   "cell_type": "code",
   "execution_count": null,
   "metadata": {},
   "outputs": [],
   "source": []
  }
 ],
 "metadata": {
  "kernelspec": {
   "display_name": "Python 3",
   "language": "python",
   "name": "python3"
  },
  "language_info": {
   "codemirror_mode": {
    "name": "ipython",
    "version": 3
   },
   "file_extension": ".py",
   "mimetype": "text/x-python",
   "name": "python",
   "nbconvert_exporter": "python",
   "pygments_lexer": "ipython3",
   "version": "3.7.4"
  }
 },
 "nbformat": 4,
 "nbformat_minor": 2
}
