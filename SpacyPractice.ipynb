{
 "cells": [
  {
   "cell_type": "code",
   "execution_count": 1,
   "metadata": {},
   "outputs": [],
   "source": [
    "import spacy"
   ]
  },
  {
   "cell_type": "code",
   "execution_count": 2,
   "metadata": {},
   "outputs": [],
   "source": [
    "nlp=spacy.load('en_core_web_sm')"
   ]
  },
  {
   "cell_type": "code",
   "execution_count": 10,
   "metadata": {},
   "outputs": [],
   "source": [
    "doc=nlp(u'Tesla is looking at buying U.S. startup for $6 million')"
   ]
  },
  {
   "cell_type": "code",
   "execution_count": 11,
   "metadata": {},
   "outputs": [
    {
     "name": "stdout",
     "output_type": "stream",
     "text": [
      "Tesla PROPN nsubj\n",
      "is AUX aux\n",
      "looking VERB ROOT\n",
      "at ADP prep\n",
      "buying VERB pcomp\n",
      "U.S. PROPN compound\n",
      "startup NOUN dobj\n",
      "for ADP prep\n",
      "$ SYM quantmod\n",
      "6 NUM compound\n",
      "million NUM pobj\n"
     ]
    }
   ],
   "source": [
    "for token in doc:\n",
    "    print(token.text,token.pos_,token.dep_)"
   ]
  },
  {
   "cell_type": "code",
   "execution_count": 12,
   "metadata": {},
   "outputs": [
    {
     "data": {
      "text/plain": [
       "[('tagger', <spacy.pipeline.pipes.Tagger at 0x2846728d3c8>),\n",
       " ('parser', <spacy.pipeline.pipes.DependencyParser at 0x28468020f48>),\n",
       " ('ner', <spacy.pipeline.pipes.EntityRecognizer at 0x2846803c528>)]"
      ]
     },
     "execution_count": 12,
     "metadata": {},
     "output_type": "execute_result"
    }
   ],
   "source": [
    "nlp.pipeline"
   ]
  },
  {
   "cell_type": "code",
   "execution_count": 13,
   "metadata": {},
   "outputs": [
    {
     "data": {
      "text/plain": [
       "['tagger', 'parser', 'ner']"
      ]
     },
     "execution_count": 13,
     "metadata": {},
     "output_type": "execute_result"
    }
   ],
   "source": [
    "nlp.pipe_names"
   ]
  },
  {
   "cell_type": "code",
   "execution_count": 14,
   "metadata": {},
   "outputs": [
    {
     "data": {
      "text/plain": [
       "True"
      ]
     },
     "execution_count": 14,
     "metadata": {},
     "output_type": "execute_result"
    }
   ],
   "source": [
    "nlp.has_pipe('tagger')"
   ]
  },
  {
   "cell_type": "code",
   "execution_count": 20,
   "metadata": {},
   "outputs": [],
   "source": [
    "doc2=nlp(u\"Tesla isn't looking into startups anymore.\")"
   ]
  },
  {
   "cell_type": "code",
   "execution_count": 21,
   "metadata": {},
   "outputs": [
    {
     "name": "stdout",
     "output_type": "stream",
     "text": [
      "Tesla PROPN nsubj\n",
      "is AUX aux\n",
      "n't PART neg\n",
      "looking VERB ROOT\n",
      "into ADP prep\n",
      "startups NOUN pobj\n",
      "anymore ADV advmod\n",
      ". PUNCT punct\n"
     ]
    }
   ],
   "source": [
    "for token in doc2:\n",
    "    print(token.text,token.pos_,token.dep_)"
   ]
  },
  {
   "cell_type": "code",
   "execution_count": 22,
   "metadata": {},
   "outputs": [
    {
     "data": {
      "text/plain": [
       "Tesla"
      ]
     },
     "execution_count": 22,
     "metadata": {},
     "output_type": "execute_result"
    }
   ],
   "source": [
    "doc2[0]"
   ]
  },
  {
   "cell_type": "code",
   "execution_count": 23,
   "metadata": {},
   "outputs": [
    {
     "data": {
      "text/plain": [
       "OrderedDict([('tagger',\n",
       "              ['$',\n",
       "               \"''\",\n",
       "               ',',\n",
       "               '-LRB-',\n",
       "               '-RRB-',\n",
       "               '.',\n",
       "               ':',\n",
       "               'ADD',\n",
       "               'AFX',\n",
       "               'CC',\n",
       "               'CD',\n",
       "               'DT',\n",
       "               'EX',\n",
       "               'FW',\n",
       "               'HYPH',\n",
       "               'IN',\n",
       "               'JJ',\n",
       "               'JJR',\n",
       "               'JJS',\n",
       "               'LS',\n",
       "               'MD',\n",
       "               'NFP',\n",
       "               'NN',\n",
       "               'NNP',\n",
       "               'NNPS',\n",
       "               'NNS',\n",
       "               'PDT',\n",
       "               'POS',\n",
       "               'PRP',\n",
       "               'PRP$',\n",
       "               'RB',\n",
       "               'RBR',\n",
       "               'RBS',\n",
       "               'RP',\n",
       "               'SYM',\n",
       "               'TO',\n",
       "               'UH',\n",
       "               'VB',\n",
       "               'VBD',\n",
       "               'VBG',\n",
       "               'VBN',\n",
       "               'VBP',\n",
       "               'VBZ',\n",
       "               'WDT',\n",
       "               'WP',\n",
       "               'WP$',\n",
       "               'WRB',\n",
       "               'XX',\n",
       "               '_SP',\n",
       "               '``']),\n",
       "             ('parser',\n",
       "              ['ROOT',\n",
       "               'acl',\n",
       "               'acomp',\n",
       "               'advcl',\n",
       "               'advmod',\n",
       "               'agent',\n",
       "               'amod',\n",
       "               'appos',\n",
       "               'attr',\n",
       "               'aux',\n",
       "               'auxpass',\n",
       "               'case',\n",
       "               'cc',\n",
       "               'ccomp',\n",
       "               'compound',\n",
       "               'conj',\n",
       "               'csubj',\n",
       "               'csubjpass',\n",
       "               'dative',\n",
       "               'dep',\n",
       "               'det',\n",
       "               'dobj',\n",
       "               'expl',\n",
       "               'intj',\n",
       "               'mark',\n",
       "               'meta',\n",
       "               'neg',\n",
       "               'nmod',\n",
       "               'npadvmod',\n",
       "               'nsubj',\n",
       "               'nsubjpass',\n",
       "               'nummod',\n",
       "               'oprd',\n",
       "               'parataxis',\n",
       "               'pcomp',\n",
       "               'pobj',\n",
       "               'poss',\n",
       "               'preconj',\n",
       "               'predet',\n",
       "               'prep',\n",
       "               'prt',\n",
       "               'punct',\n",
       "               'quantmod',\n",
       "               'relcl',\n",
       "               'xcomp']),\n",
       "             ('ner',\n",
       "              ['CARDINAL',\n",
       "               'DATE',\n",
       "               'EVENT',\n",
       "               'FAC',\n",
       "               'GPE',\n",
       "               'LANGUAGE',\n",
       "               'LAW',\n",
       "               'LOC',\n",
       "               'MONEY',\n",
       "               'NORP',\n",
       "               'ORDINAL',\n",
       "               'ORG',\n",
       "               'PERCENT',\n",
       "               'PERSON',\n",
       "               'PRODUCT',\n",
       "               'QUANTITY',\n",
       "               'TIME',\n",
       "               'WORK_OF_ART'])])"
      ]
     },
     "execution_count": 23,
     "metadata": {},
     "output_type": "execute_result"
    }
   ],
   "source": [
    "nlp.pipe_labels"
   ]
  },
  {
   "cell_type": "code",
   "execution_count": 29,
   "metadata": {},
   "outputs": [
    {
     "data": {
      "text/plain": [
       "'PART'"
      ]
     },
     "execution_count": 29,
     "metadata": {},
     "output_type": "execute_result"
    }
   ],
   "source": [
    "doc2[2].pos_\n"
   ]
  },
  {
   "cell_type": "code",
   "execution_count": 26,
   "metadata": {},
   "outputs": [
    {
     "data": {
      "text/plain": [
       "8"
      ]
     },
     "execution_count": 26,
     "metadata": {},
     "output_type": "execute_result"
    }
   ],
   "source": [
    "len(doc2)"
   ]
  },
  {
   "cell_type": "code",
   "execution_count": 27,
   "metadata": {},
   "outputs": [
    {
     "data": {
      "text/plain": [
       "16096726548953279178"
      ]
     },
     "execution_count": 27,
     "metadata": {},
     "output_type": "execute_result"
    }
   ],
   "source": [
    "doc[2].lemma"
   ]
  },
  {
   "cell_type": "code",
   "execution_count": 28,
   "metadata": {},
   "outputs": [
    {
     "data": {
      "text/plain": [
       "'VBG'"
      ]
     },
     "execution_count": 28,
     "metadata": {},
     "output_type": "execute_result"
    }
   ],
   "source": [
    "doc[2].tag_"
   ]
  },
  {
   "cell_type": "code",
   "execution_count": 30,
   "metadata": {},
   "outputs": [
    {
     "data": {
      "text/plain": [
       "'xxxx'"
      ]
     },
     "execution_count": 30,
     "metadata": {},
     "output_type": "execute_result"
    }
   ],
   "source": [
    "doc[2].shape_"
   ]
  },
  {
   "cell_type": "code",
   "execution_count": 34,
   "metadata": {},
   "outputs": [
    {
     "ename": "AttributeError",
     "evalue": "'spacy.tokens.doc.Doc' object has no attribute 'is_stop'",
     "output_type": "error",
     "traceback": [
      "\u001b[1;31m---------------------------------------------------------------------------\u001b[0m",
      "\u001b[1;31mAttributeError\u001b[0m                            Traceback (most recent call last)",
      "\u001b[1;32m<ipython-input-34-4c0959574968>\u001b[0m in \u001b[0;36m<module>\u001b[1;34m\u001b[0m\n\u001b[1;32m----> 1\u001b[1;33m \u001b[0mdoc2\u001b[0m\u001b[1;33m.\u001b[0m\u001b[0mis_stop\u001b[0m\u001b[1;33m\u001b[0m\u001b[1;33m\u001b[0m\u001b[0m\n\u001b[0m",
      "\u001b[1;31mAttributeError\u001b[0m: 'spacy.tokens.doc.Doc' object has no attribute 'is_stop'"
     ]
    }
   ],
   "source": [
    "doc2.is_stop"
   ]
  },
  {
   "cell_type": "code",
   "execution_count": null,
   "metadata": {},
   "outputs": [],
   "source": []
  }
 ],
 "metadata": {
  "kernelspec": {
   "display_name": "Python 3",
   "language": "python",
   "name": "python3"
  },
  "language_info": {
   "codemirror_mode": {
    "name": "ipython",
    "version": 3
   },
   "file_extension": ".py",
   "mimetype": "text/x-python",
   "name": "python",
   "nbconvert_exporter": "python",
   "pygments_lexer": "ipython3",
   "version": "3.7.4"
  }
 },
 "nbformat": 4,
 "nbformat_minor": 2
}
