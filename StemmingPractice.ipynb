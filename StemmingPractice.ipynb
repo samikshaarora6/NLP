{
 "cells": [
  {
   "cell_type": "code",
   "execution_count": 1,
   "metadata": {},
   "outputs": [],
   "source": [
    "import nltk"
   ]
  },
  {
   "cell_type": "code",
   "execution_count": 3,
   "metadata": {},
   "outputs": [],
   "source": [
    "from nltk.stem.porter import PorterStemmer"
   ]
  },
  {
   "cell_type": "code",
   "execution_count": 4,
   "metadata": {},
   "outputs": [],
   "source": [
    "p=PorterStemmer()"
   ]
  },
  {
   "cell_type": "code",
   "execution_count": 14,
   "metadata": {},
   "outputs": [],
   "source": [
    "words=['run','runner','ran','runs','easily','fairly','fairness','goodness','generation','generous','generate']"
   ]
  },
  {
   "cell_type": "code",
   "execution_count": 15,
   "metadata": {},
   "outputs": [
    {
     "name": "stdout",
     "output_type": "stream",
     "text": [
      "run--------->run\n",
      "runner--------->runner\n",
      "ran--------->ran\n",
      "runs--------->run\n",
      "easily--------->easili\n",
      "fairly--------->fairli\n",
      "fairness--------->fair\n",
      "goodness--------->good\n",
      "generation--------->gener\n",
      "generous--------->gener\n",
      "generate--------->gener\n"
     ]
    }
   ],
   "source": [
    "for word in words:\n",
    "    print(word+'--------->' +p.stem(word))"
   ]
  },
  {
   "cell_type": "code",
   "execution_count": 10,
   "metadata": {},
   "outputs": [],
   "source": [
    "from nltk.stem.snowball import SnowballStemmer"
   ]
  },
  {
   "cell_type": "code",
   "execution_count": 12,
   "metadata": {},
   "outputs": [],
   "source": [
    "s=SnowballStemmer(language='english')"
   ]
  },
  {
   "cell_type": "code",
   "execution_count": 16,
   "metadata": {},
   "outputs": [
    {
     "name": "stdout",
     "output_type": "stream",
     "text": [
      "run------->run\n",
      "runner------->runner\n",
      "ran------->ran\n",
      "runs------->run\n",
      "easily------->easili\n",
      "fairly------->fair\n",
      "fairness------->fair\n",
      "goodness------->good\n",
      "generation------->generat\n",
      "generous------->generous\n",
      "generate------->generat\n"
     ]
    }
   ],
   "source": [
    "for word in words:\n",
    "    print(word+'------->'+s.stem(word))"
   ]
  },
  {
   "cell_type": "code",
   "execution_count": null,
   "metadata": {},
   "outputs": [],
   "source": []
  }
 ],
 "metadata": {
  "kernelspec": {
   "display_name": "Python 3",
   "language": "python",
   "name": "python3"
  },
  "language_info": {
   "codemirror_mode": {
    "name": "ipython",
    "version": 3
   },
   "file_extension": ".py",
   "mimetype": "text/x-python",
   "name": "python",
   "nbconvert_exporter": "python",
   "pygments_lexer": "ipython3",
   "version": "3.7.4"
  }
 },
 "nbformat": 4,
 "nbformat_minor": 2
}
